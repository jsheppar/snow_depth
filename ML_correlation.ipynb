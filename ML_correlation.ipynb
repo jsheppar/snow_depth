{
 "cells": [
  {
   "cell_type": "code",
   "execution_count": 11,
   "id": "702257ad-6abd-4784-9c3c-d15bd22eb929",
   "metadata": {},
   "outputs": [],
   "source": [
    "import numpy\n",
    "#import scikitlearn\n",
    "import os\n",
    "import pandas as pd\n",
    "pd.set_option('display.max_columns', None)"
   ]
  },
  {
   "cell_type": "code",
   "execution_count": 4,
   "id": "5893a7cf-e358-4ddd-a3ef-d3965ee6c9f4",
   "metadata": {},
   "outputs": [
    {
     "data": {
      "text/plain": [
       "'/Users/jsheppar/Dropbox (University of Oregon)/GitHub/snow_depth'"
      ]
     },
     "execution_count": 4,
     "metadata": {},
     "output_type": "execute_result"
    }
   ],
   "source": [
    "os.getcwd()"
   ]
  },
  {
   "cell_type": "code",
   "execution_count": 7,
   "id": "d81782fb-1f5e-4361-8e45-8a8c098175b3",
   "metadata": {},
   "outputs": [],
   "source": [
    "sd_data = pd.read_csv(\".//DOGAMI/filtered_land_cover_sliderule_ATL03_20210419034059_03871102_005_01.h5.csv\")"
   ]
  },
  {
   "cell_type": "code",
   "execution_count": 19,
   "id": "01fd6bde-5ed8-480f-81a4-4901103671f6",
   "metadata": {},
   "outputs": [
    {
     "data": {
      "text/html": [
       "<div>\n",
       "<style scoped>\n",
       "    .dataframe tbody tr th:only-of-type {\n",
       "        vertical-align: middle;\n",
       "    }\n",
       "\n",
       "    .dataframe tbody tr th {\n",
       "        vertical-align: top;\n",
       "    }\n",
       "\n",
       "    .dataframe thead th {\n",
       "        text-align: right;\n",
       "    }\n",
       "</style>\n",
       "<table border=\"1\" class=\"dataframe\">\n",
       "  <thead>\n",
       "    <tr style=\"text-align: right;\">\n",
       "      <th></th>\n",
       "      <th>h_sigma</th>\n",
       "      <th>spot</th>\n",
       "      <th>dh_fit_dx</th>\n",
       "      <th>rms_misfit</th>\n",
       "      <th>w_surface_window_final</th>\n",
       "      <th>n_fit_photons</th>\n",
       "      <th>snow_depth</th>\n",
       "      <th>land_cover</th>\n",
       "    </tr>\n",
       "  </thead>\n",
       "  <tbody>\n",
       "    <tr>\n",
       "      <th>0</th>\n",
       "      <td>0.081355</td>\n",
       "      <td>1</td>\n",
       "      <td>-0.665772</td>\n",
       "      <td>0.545561</td>\n",
       "      <td>16.988207</td>\n",
       "      <td>45</td>\n",
       "      <td>4.114955</td>\n",
       "      <td>Evergreen Forest</td>\n",
       "    </tr>\n",
       "    <tr>\n",
       "      <th>1</th>\n",
       "      <td>0.061258</td>\n",
       "      <td>1</td>\n",
       "      <td>-0.579508</td>\n",
       "      <td>0.394190</td>\n",
       "      <td>14.790105</td>\n",
       "      <td>44</td>\n",
       "      <td>3.769280</td>\n",
       "      <td>Evergreen Forest</td>\n",
       "    </tr>\n",
       "    <tr>\n",
       "      <th>2</th>\n",
       "      <td>0.150979</td>\n",
       "      <td>1</td>\n",
       "      <td>-0.211666</td>\n",
       "      <td>0.854114</td>\n",
       "      <td>7.146252</td>\n",
       "      <td>38</td>\n",
       "      <td>3.763746</td>\n",
       "      <td>Evergreen Forest</td>\n",
       "    </tr>\n",
       "    <tr>\n",
       "      <th>3</th>\n",
       "      <td>0.179110</td>\n",
       "      <td>1</td>\n",
       "      <td>-0.620443</td>\n",
       "      <td>0.639461</td>\n",
       "      <td>15.833101</td>\n",
       "      <td>22</td>\n",
       "      <td>3.727058</td>\n",
       "      <td>Evergreen Forest</td>\n",
       "    </tr>\n",
       "    <tr>\n",
       "      <th>4</th>\n",
       "      <td>0.031558</td>\n",
       "      <td>1</td>\n",
       "      <td>-0.363851</td>\n",
       "      <td>0.297851</td>\n",
       "      <td>9.298342</td>\n",
       "      <td>91</td>\n",
       "      <td>3.704603</td>\n",
       "      <td>Evergreen Forest</td>\n",
       "    </tr>\n",
       "  </tbody>\n",
       "</table>\n",
       "</div>"
      ],
      "text/plain": [
       "    h_sigma  spot  dh_fit_dx  rms_misfit  w_surface_window_final  \\\n",
       "0  0.081355     1  -0.665772    0.545561               16.988207   \n",
       "1  0.061258     1  -0.579508    0.394190               14.790105   \n",
       "2  0.150979     1  -0.211666    0.854114                7.146252   \n",
       "3  0.179110     1  -0.620443    0.639461               15.833101   \n",
       "4  0.031558     1  -0.363851    0.297851                9.298342   \n",
       "\n",
       "   n_fit_photons  snow_depth        land_cover  \n",
       "0             45    4.114955  Evergreen Forest  \n",
       "1             44    3.769280  Evergreen Forest  \n",
       "2             38    3.763746  Evergreen Forest  \n",
       "3             22    3.727058  Evergreen Forest  \n",
       "4             91    3.704603  Evergreen Forest  "
      ]
     },
     "execution_count": 19,
     "metadata": {},
     "output_type": "execute_result"
    }
   ],
   "source": [
    "sd_data.head()"
   ]
  },
  {
   "cell_type": "code",
   "execution_count": 18,
   "id": "70cdff35-127c-4493-904e-9ee5e50b0086",
   "metadata": {},
   "outputs": [],
   "source": [
    "sd_data.drop([\"time\", \"cycle\", \"delta_time\", \"segment_id\", \"dh_fit_dy\", \"rgt\", \"pflags\", \"h_mean\", \"distance\", \"gt\", \"geometry\", \"lon\", \"lat\", \"x\", \"y\"], axis=1, inplace=True)"
   ]
  },
  {
   "cell_type": "code",
   "execution_count": 26,
   "id": "e027da61-a8cb-4e10-9c2c-7fd86afc73cc",
   "metadata": {},
   "outputs": [
    {
     "data": {
      "text/plain": [
       "snow_depth                1.000000\n",
       "dh_fit_dx                 0.644506\n",
       "n_fit_photons             0.329398\n",
       "h_sigma                   0.163523\n",
       "spot                      0.148552\n",
       "w_surface_window_final    0.081304\n",
       "rms_misfit                0.017727\n",
       "Name: snow_depth, dtype: float64"
      ]
     },
     "execution_count": 26,
     "metadata": {},
     "output_type": "execute_result"
    }
   ],
   "source": [
    "corr_matrix = sd_data.corr()\n",
    "\n",
    "abs(corr_matrix[\"snow_depth\"]).sort_values(ascending=False)"
   ]
  },
  {
   "cell_type": "code",
   "execution_count": null,
   "id": "818ad957-379a-4183-972f-ccd7241fa7f4",
   "metadata": {},
   "outputs": [],
   "source": []
  }
 ],
 "metadata": {
  "kernelspec": {
   "display_name": "Python 3 (ipykernel)",
   "language": "python",
   "name": "python3"
  },
  "language_info": {
   "codemirror_mode": {
    "name": "ipython",
    "version": 3
   },
   "file_extension": ".py",
   "mimetype": "text/x-python",
   "name": "python",
   "nbconvert_exporter": "python",
   "pygments_lexer": "ipython3",
   "version": "3.8.12"
  }
 },
 "nbformat": 4,
 "nbformat_minor": 5
}
