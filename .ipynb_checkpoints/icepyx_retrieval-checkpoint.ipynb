{
 "cells": [
  {
   "cell_type": "code",
   "execution_count": null,
   "id": "891f5d50-74e1-4058-9b9d-c57c46b5b380",
   "metadata": {},
   "outputs": [],
   "source": [
    "import icepyx as ipx\n",
    "import os"
   ]
  },
  {
   "cell_type": "code",
   "execution_count": null,
   "id": "a7628eaa-0db7-4aa2-b789-4b43d76cd108",
   "metadata": {},
   "outputs": [],
   "source": [
    "short_name = 'ATL03'\n",
    "spatial_extent = [-122.12465, 44.12274, -121.75132, 44.50082]\n",
    "#spatial_extent = [src.bounds[0], src.bounds[1], src.bounds[2], src.bounds[3]]\n",
    "start_time = \"00:00:00\"\n",
    "end_time = \"23:59:59\"\n",
    "\n",
    "belknap = ipx.Query(\n",
    "    short_name, spatial_extent, [\"2020-08-01\", \"2020-10-30\"],\n",
    "    start_time=start_time, end_time=end_time)"
   ]
  },
  {
   "cell_type": "code",
   "execution_count": null,
   "id": "895ac721-51a0-4dd2-8e00-230619357381",
   "metadata": {},
   "outputs": [],
   "source": [
    "print(\"Available data for August-October 2020\")\n",
    "print(list(set(belknap.avail_granules(cycles=True)[0])))  # region.cycles\n",
    "print(list(set(belknap.avail_granules(tracks=True)[0])))  # region.tracks\n",
    "print(list(set(belknap.avail_granules(ids=True)[0])))"
   ]
  },
  {
   "cell_type": "code",
   "execution_count": null,
   "id": "77739bf7-8ab0-4058-9219-c411c345a614",
   "metadata": {},
   "outputs": [],
   "source": [
    "area_map = belknap.visualize_spatial_extent()\n",
    "area_map"
   ]
  },
  {
   "cell_type": "code",
   "execution_count": null,
   "id": "067c0b94-8ff0-4b45-81a0-c42331a7e8cd",
   "metadata": {},
   "outputs": [],
   "source": [
    "earthdata_uid = \"jsheppar\"\n",
    "email = \"jsheppar@uoregon.edu\"\n",
    "\n",
    "belknap.earthdata_login(earthdata_uid, email)"
   ]
  },
  {
   "cell_type": "code",
   "execution_count": null,
   "id": "647697bf-d7c0-4ded-929c-deb81c0a50df",
   "metadata": {},
   "outputs": [],
   "source": [
    "os.getcwd()"
   ]
  },
  {
   "cell_type": "code",
   "execution_count": null,
   "id": "900c9859-76fa-44f4-9750-3e49ca705c8a",
   "metadata": {},
   "outputs": [],
   "source": [
    "belknap.order_vars.append(var_list=[\"h_ph\", \"lat_ph\", \"lon_ph\", \"sc_orient\", \"dist_ph_along\", \"segment_length\", \n",
    "                                   \"segment_ph_cnt\", \"signal_conf_ph\", \"data_start_utc\", \"start_rgt\"])\n",
    "\n",
    "belknap.subsetparams(Coverage=belknap.order_vars.wanted)\n",
    "\n",
    "belknap.reqparams[\"request_mode\"] = \"async\"\n",
    "\n",
    "belknap.order_granules()\n",
    "belknap.download_granules(\"./belknap_leaf_off/\")"
   ]
  },
  {
   "cell_type": "code",
   "execution_count": null,
   "id": "9dd0018e-5c0b-4ef6-bdc7-7703c7b424bf",
   "metadata": {},
   "outputs": [],
   "source": []
  }
 ],
 "metadata": {
  "kernelspec": {
   "display_name": "Python 3 (ipykernel)",
   "language": "python",
   "name": "python3"
  },
  "language_info": {
   "codemirror_mode": {
    "name": "ipython",
    "version": 3
   },
   "file_extension": ".py",
   "mimetype": "text/x-python",
   "name": "python",
   "nbconvert_exporter": "python",
   "pygments_lexer": "ipython3",
   "version": "3.8.12"
  }
 },
 "nbformat": 4,
 "nbformat_minor": 5
}
