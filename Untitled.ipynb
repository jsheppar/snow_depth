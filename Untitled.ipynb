{
 "cells": [
  {
   "cell_type": "code",
   "execution_count": 1,
   "id": "5937db82-c614-46ea-be1f-07dc55afc1a4",
   "metadata": {},
   "outputs": [],
   "source": [
    "import numpy as np\n",
    "import matplotlib.pyplot as plt"
   ]
  },
  {
   "cell_type": "code",
   "execution_count": 3,
   "id": "18b330cb-34b6-4370-8c29-2e25c4435717",
   "metadata": {},
   "outputs": [],
   "source": [
    "x_1 = 575628.7599\n",
    "y_1 = 4886413.595\n",
    "x_2 = 575627.143\n",
    "y_2 = 4886428.545\n",
    "w = 4.15\n",
    "dx = x_2-x_1\n",
    "dy = y_2-y_1\n",
    "L = np.sqrt(dx**2 + dy**2)\n",
    "del_x = dy * w/L\n",
    "del_y = -dx * w/L\n",
    "\n",
    "x_3 = x_1 + del_x\n",
    "y_3 = y_1 + del_y\n",
    "x_4 = x_2 + del_x\n",
    "y_4 = y_2 + del_y\n",
    "\n",
    "x_5 = x_1 - del_x\n",
    "y_5 = y_1 - del_y\n",
    "x_6 = x_2 - del_x\n",
    "y_6 = y_2 - del_y"
   ]
  },
  {
   "cell_type": "code",
   "execution_count": 7,
   "id": "8365057c-cfe9-4f39-b337-4aec7a5ce538",
   "metadata": {},
   "outputs": [
    {
     "data": {
      "text/plain": [
       "(575622.5236220147, 575639.9503416104, 4886412.356640202, 4886429.783359798)"
      ]
     },
     "execution_count": 7,
     "metadata": {},
     "output_type": "execute_result"
    },
    {
     "data": {
      "image/png": "[encoded data removed]",
      "text/plain": [
       "<Figure size 432x288 with 1 Axes>"
      ]
     },
     "metadata": {
      "needs_background": "light"
     },
     "output_type": "display_data"
    }
   ],
   "source": [
    "plt.scatter(x_1,y_1)\n",
    "plt.scatter(x_2,y_2)\n",
    "plt.scatter(x_3,y_3)\n",
    "plt.scatter(x_4,y_4)\n",
    "plt.scatter(x_5,y_5)\n",
    "plt.scatter(x_6,y_6)\n",
    "plt.axis('square')"
   ]
  },
  {
   "cell_type": "code",
   "execution_count": null,
   "id": "a8287232-f290-4b3b-8e3e-23f62dca53ad",
   "metadata": {},
   "outputs": [],
   "source": []
  }
 ],
 "metadata": {
  "kernelspec": {
   "display_name": "Python 3 (ipykernel)",
   "language": "python",
   "name": "python3"
  },
  "language_info": {
   "codemirror_mode": {
    "name": "ipython",
    "version": 3
   },
   "file_extension": ".py",
   "mimetype": "text/x-python",
   "name": "python",
   "nbconvert_exporter": "python",
   "pygments_lexer": "ipython3",
   "version": "3.8.12"
  }
 },
 "nbformat": 4,
 "nbformat_minor": 5
}
